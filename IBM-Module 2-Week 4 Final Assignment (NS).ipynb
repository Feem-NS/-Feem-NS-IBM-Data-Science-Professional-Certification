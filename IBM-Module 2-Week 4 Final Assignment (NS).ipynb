{
  "metadata": {
    "language_info": {
      "codemirror_mode": {
        "name": "python",
        "version": 3
      },
      "file_extension": ".py",
      "mimetype": "text/x-python",
      "name": "python",
      "nbconvert_exporter": "python",
      "pygments_lexer": "ipython3",
      "version": "3.8"
    },
    "kernelspec": {
      "name": "python",
      "display_name": "Pyolite",
      "language": "python"
    }
  },
  "nbformat_minor": 4,
  "nbformat": 4,
  "cells": [
    {
      "cell_type": "markdown",
      "source": "# My Jupyter Notebook on IBM Watson Studio",
      "metadata": {}
    },
    {
      "cell_type": "markdown",
      "source": "**Natthapong Sueviriyapan**\n\nData scientist",
      "metadata": {}
    },
    {
      "cell_type": "markdown",
      "source": "*I am interested in data science because when it comes to health care, data science has the potential to revolutionize it*",
      "metadata": {}
    },
    {
      "cell_type": "markdown",
      "source": "### Cell5 will print 'Do you know SWOT analysis'",
      "metadata": {}
    },
    {
      "cell_type": "code",
      "source": "print(\"Do you know SWOT analysis!\")",
      "metadata": {
        "trusted": true
      },
      "execution_count": 3,
      "outputs": [
        {
          "name": "stdout",
          "text": "Do you know SWOT analysis!\n",
          "output_type": "stream"
        }
      ]
    },
    {
      "cell_type": "markdown",
      "source": "**_SWOT analysis_**\n\n---\nIn strategic planning, SWOT analysis (or SWOT matrix) is used to identify strengths, weaknesses, opportunities and threats.\n\n|                 | Helpful       | Harmful    |\n| --- | --- | --- |\n| Internal origin | Strengths     | Weaknesses |\n| External origin | Opportunities | Threats    |\n\n[Here is more information about SWOT analysis](https://en.wikipedia.org/wiki/SWOT_analysis)",
      "metadata": {}
    },
    {
      "cell_type": "raw",
      "source": "",
      "metadata": {}
    }
  ]
}